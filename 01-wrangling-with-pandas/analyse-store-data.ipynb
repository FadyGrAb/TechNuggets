{
 "cells": [
  {
   "cell_type": "code",
   "execution_count": 25,
   "metadata": {},
   "outputs": [],
   "source": [
    "import pandas as pd # a pandas convention 😅\n",
    "import re           # regex library. We will use that later."
   ]
  },
  {
   "cell_type": "code",
   "execution_count": 26,
   "metadata": {},
   "outputs": [],
   "source": [
    "store_data = pd.read_csv(\"store_data_20230116.csv\")"
   ]
  },
  {
   "cell_type": "code",
   "execution_count": 27,
   "metadata": {},
   "outputs": [
    {
     "data": {
      "text/html": [
       "<div>\n",
       "<style scoped>\n",
       "    .dataframe tbody tr th:only-of-type {\n",
       "        vertical-align: middle;\n",
       "    }\n",
       "\n",
       "    .dataframe tbody tr th {\n",
       "        vertical-align: top;\n",
       "    }\n",
       "\n",
       "    .dataframe thead th {\n",
       "        text-align: right;\n",
       "    }\n",
       "</style>\n",
       "<table border=\"1\" class=\"dataframe\">\n",
       "  <thead>\n",
       "    <tr style=\"text-align: right;\">\n",
       "      <th></th>\n",
       "      <th>Tran ID</th>\n",
       "      <th>Cat</th>\n",
       "      <th>Item</th>\n",
       "      <th>Qty</th>\n",
       "      <th>Unit Price</th>\n",
       "    </tr>\n",
       "  </thead>\n",
       "  <tbody>\n",
       "    <tr>\n",
       "      <th>0</th>\n",
       "      <td>25008</td>\n",
       "      <td>legumes</td>\n",
       "      <td>black-eyed peas</td>\n",
       "      <td>2.0</td>\n",
       "      <td>8.23</td>\n",
       "    </tr>\n",
       "    <tr>\n",
       "      <th>1</th>\n",
       "      <td>25008</td>\n",
       "      <td>legumes</td>\n",
       "      <td>chickpeas</td>\n",
       "      <td>2.0</td>\n",
       "      <td>5.12</td>\n",
       "    </tr>\n",
       "    <tr>\n",
       "      <th>2</th>\n",
       "      <td>25008</td>\n",
       "      <td>fruits</td>\n",
       "      <td>apples</td>\n",
       "      <td>2.0</td>\n",
       "      <td>9.60</td>\n",
       "    </tr>\n",
       "    <tr>\n",
       "      <th>3</th>\n",
       "      <td>25008</td>\n",
       "      <td>fruits</td>\n",
       "      <td>grapes</td>\n",
       "      <td>2.0</td>\n",
       "      <td>3.20</td>\n",
       "    </tr>\n",
       "    <tr>\n",
       "      <th>4</th>\n",
       "      <td>25044</td>\n",
       "      <td>vegetables</td>\n",
       "      <td>lettuce</td>\n",
       "      <td>3.0</td>\n",
       "      <td>9.11</td>\n",
       "    </tr>\n",
       "  </tbody>\n",
       "</table>\n",
       "</div>"
      ],
      "text/plain": [
       "   Tran ID         Cat             Item  Qty  Unit Price\n",
       "0    25008     legumes  black-eyed peas  2.0        8.23\n",
       "1    25008     legumes        chickpeas  2.0        5.12\n",
       "2    25008      fruits           apples  2.0        9.60\n",
       "3    25008      fruits           grapes  2.0        3.20\n",
       "4    25044  vegetables          lettuce  3.0        9.11"
      ]
     },
     "execution_count": 27,
     "metadata": {},
     "output_type": "execute_result"
    }
   ],
   "source": [
    "store_data.head()"
   ]
  },
  {
   "cell_type": "code",
   "execution_count": 28,
   "metadata": {},
   "outputs": [
    {
     "name": "stdout",
     "output_type": "stream",
     "text": [
      "<class 'pandas.core.frame.DataFrame'>\n",
      "RangeIndex: 10038 entries, 0 to 10037\n",
      "Data columns (total 5 columns):\n",
      " #   Column      Non-Null Count  Dtype  \n",
      "---  ------      --------------  -----  \n",
      " 0   Tran ID     10038 non-null  int64  \n",
      " 1   Cat         9956 non-null   object \n",
      " 2   Item        9966 non-null   object \n",
      " 3   Qty         10023 non-null  float64\n",
      " 4   Unit Price  10011 non-null  float64\n",
      "dtypes: float64(2), int64(1), object(2)\n",
      "memory usage: 392.2+ KB\n"
     ]
    }
   ],
   "source": [
    "store_data.info()"
   ]
  },
  {
   "cell_type": "code",
   "execution_count": 29,
   "metadata": {},
   "outputs": [
    {
     "data": {
      "text/plain": [
       "fruits        3381\n",
       "legumes       3271\n",
       "vegetables    3239\n",
       "Vegetables      14\n",
       "Legumes         12\n",
       "FRUITS          12\n",
       "VEGETABLES       9\n",
       "Fruits           9\n",
       "LEGUMES          9\n",
       "Name: Cat, dtype: int64"
      ]
     },
     "execution_count": 29,
     "metadata": {},
     "output_type": "execute_result"
    }
   ],
   "source": [
    "store_data.Cat.value_counts()"
   ]
  },
  {
   "cell_type": "code",
   "execution_count": 30,
   "metadata": {},
   "outputs": [
    {
     "data": {
      "text/plain": [
       "apples             911\n",
       "oranges            861\n",
       "black-eyed peas    852\n",
       "lentils            832\n",
       "broccoli           817\n",
       "grapes             811\n",
       "carrots            810\n",
       "lettuce            806\n",
       "potatos            799\n",
       "bananas            798\n",
       "navy beans         797\n",
       "chickpeas          790\n",
       "Chickpeas            6\n",
       "Broccoli             6\n",
       "Potatos              6\n",
       "GRAPES               5\n",
       "CARROTS              5\n",
       "Lettuce              5\n",
       "Black-eyed peas      5\n",
       "Oranges              5\n",
       "LETTUCE              5\n",
       "Carrots              4\n",
       "Bananas              4\n",
       "Navy beans           3\n",
       "BANANAS              3\n",
       "Grapes               3\n",
       "APPLES               3\n",
       "CHICKPEAS            2\n",
       "LENTILS              2\n",
       "BROCCOLI             2\n",
       "NAVY BEANS           2\n",
       "Apples               2\n",
       "BLACK-EYED PEAS      2\n",
       "ORANGES              1\n",
       "Lentils              1\n",
       "Name: Item, dtype: int64"
      ]
     },
     "execution_count": 30,
     "metadata": {},
     "output_type": "execute_result"
    }
   ],
   "source": [
    "store_data.Item.value_counts()"
   ]
  },
  {
   "cell_type": "code",
   "execution_count": 31,
   "metadata": {},
   "outputs": [
    {
     "data": {
      "text/plain": [
       "Tran ID        0\n",
       "Cat           82\n",
       "Item          72\n",
       "Qty           15\n",
       "Unit Price    27\n",
       "dtype: int64"
      ]
     },
     "execution_count": 31,
     "metadata": {},
     "output_type": "execute_result"
    }
   ],
   "source": [
    "store_data.isna().sum()"
   ]
  },
  {
   "cell_type": "code",
   "execution_count": null,
   "metadata": {},
   "outputs": [],
   "source": []
  }
 ],
 "metadata": {
  "kernelspec": {
   "display_name": "Python 3",
   "language": "python",
   "name": "python3"
  },
  "language_info": {
   "codemirror_mode": {
    "name": "ipython",
    "version": 3
   },
   "file_extension": ".py",
   "mimetype": "text/x-python",
   "name": "python",
   "nbconvert_exporter": "python",
   "pygments_lexer": "ipython3",
   "version": "3.10.4"
  },
  "orig_nbformat": 4,
  "vscode": {
   "interpreter": {
    "hash": "f011c0cd447ca522a22dc6ef2c128dee9fb8318c48fb64140dd8b169bd5cf558"
   }
  }
 },
 "nbformat": 4,
 "nbformat_minor": 2
}
