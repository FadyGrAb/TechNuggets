{
 "cells": [
  {
   "cell_type": "code",
   "execution_count": 1,
   "metadata": {},
   "outputs": [],
   "source": [
    "import pandas as pd     # A pandas convention 😅\n",
    "import re               # Regex library. We will use that later.\n",
    "import pathlib          # To manage paths in an OOP why.\n",
    "import datetime         # To manage dates."
   ]
  },
  {
   "attachments": {},
   "cell_type": "markdown",
   "metadata": {},
   "source": [
    "### Importing and exploring the csv file"
   ]
  },
  {
   "cell_type": "code",
   "execution_count": 2,
   "metadata": {},
   "outputs": [],
   "source": [
    "file_path = pathlib.Path(\"store_data_20230116.csv\")\n",
    "store_data = pd.read_csv(file_path)"
   ]
  },
  {
   "attachments": {},
   "cell_type": "markdown",
   "metadata": {},
   "source": [
    "By defaule ***\"head\"*** shows the first 5 rows in a table."
   ]
  },
  {
   "cell_type": "code",
   "execution_count": 3,
   "metadata": {},
   "outputs": [
    {
     "data": {
      "text/html": [
       "<div>\n",
       "<style scoped>\n",
       "    .dataframe tbody tr th:only-of-type {\n",
       "        vertical-align: middle;\n",
       "    }\n",
       "\n",
       "    .dataframe tbody tr th {\n",
       "        vertical-align: top;\n",
       "    }\n",
       "\n",
       "    .dataframe thead th {\n",
       "        text-align: right;\n",
       "    }\n",
       "</style>\n",
       "<table border=\"1\" class=\"dataframe\">\n",
       "  <thead>\n",
       "    <tr style=\"text-align: right;\">\n",
       "      <th></th>\n",
       "      <th>Tran ID</th>\n",
       "      <th>Cat</th>\n",
       "      <th>Item</th>\n",
       "      <th>Qty</th>\n",
       "      <th>Unit Price</th>\n",
       "    </tr>\n",
       "  </thead>\n",
       "  <tbody>\n",
       "    <tr>\n",
       "      <th>0</th>\n",
       "      <td>25008</td>\n",
       "      <td>legumes</td>\n",
       "      <td>black-eyed peas</td>\n",
       "      <td>2.0</td>\n",
       "      <td>8.23</td>\n",
       "    </tr>\n",
       "    <tr>\n",
       "      <th>1</th>\n",
       "      <td>25008</td>\n",
       "      <td>legumes</td>\n",
       "      <td>chickpeas</td>\n",
       "      <td>2.0</td>\n",
       "      <td>5.12</td>\n",
       "    </tr>\n",
       "    <tr>\n",
       "      <th>2</th>\n",
       "      <td>25008</td>\n",
       "      <td>fruits</td>\n",
       "      <td>apples</td>\n",
       "      <td>2.0</td>\n",
       "      <td>9.60</td>\n",
       "    </tr>\n",
       "    <tr>\n",
       "      <th>3</th>\n",
       "      <td>25008</td>\n",
       "      <td>fruits</td>\n",
       "      <td>grapes</td>\n",
       "      <td>2.0</td>\n",
       "      <td>3.20</td>\n",
       "    </tr>\n",
       "    <tr>\n",
       "      <th>4</th>\n",
       "      <td>25044</td>\n",
       "      <td>vegetables</td>\n",
       "      <td>lettuce</td>\n",
       "      <td>3.0</td>\n",
       "      <td>9.11</td>\n",
       "    </tr>\n",
       "  </tbody>\n",
       "</table>\n",
       "</div>"
      ],
      "text/plain": [
       "   Tran ID         Cat             Item  Qty  Unit Price\n",
       "0    25008     legumes  black-eyed peas  2.0        8.23\n",
       "1    25008     legumes        chickpeas  2.0        5.12\n",
       "2    25008      fruits           apples  2.0        9.60\n",
       "3    25008      fruits           grapes  2.0        3.20\n",
       "4    25044  vegetables          lettuce  3.0        9.11"
      ]
     },
     "execution_count": 3,
     "metadata": {},
     "output_type": "execute_result"
    }
   ],
   "source": [
    "store_data.head()"
   ]
  },
  {
   "attachments": {},
   "cell_type": "markdown",
   "metadata": {},
   "source": [
    "You can get a lot of usefull information with ***\"info\"*** Like the rows count, column names, column types and the presence of null values"
   ]
  },
  {
   "cell_type": "code",
   "execution_count": 4,
   "metadata": {},
   "outputs": [
    {
     "name": "stdout",
     "output_type": "stream",
     "text": [
      "<class 'pandas.core.frame.DataFrame'>\n",
      "RangeIndex: 10038 entries, 0 to 10037\n",
      "Data columns (total 5 columns):\n",
      " #   Column      Non-Null Count  Dtype  \n",
      "---  ------      --------------  -----  \n",
      " 0   Tran ID     10038 non-null  int64  \n",
      " 1   Cat         9956 non-null   object \n",
      " 2   Item        9966 non-null   object \n",
      " 3   Qty         10023 non-null  float64\n",
      " 4   Unit Price  10011 non-null  float64\n",
      "dtypes: float64(2), int64(1), object(2)\n",
      "memory usage: 392.2+ KB\n"
     ]
    }
   ],
   "source": [
    "store_data.info()"
   ]
  },
  {
   "attachments": {},
   "cell_type": "markdown",
   "metadata": {},
   "source": [
    "You can check for the distinct values in a column using ***unique***"
   ]
  },
  {
   "cell_type": "code",
   "execution_count": 5,
   "metadata": {},
   "outputs": [
    {
     "data": {
      "text/plain": [
       "array(['black-eyed peas', 'chickpeas', 'apples', 'grapes', 'lettuce',\n",
       "       'lentils', 'potatos', 'bananas', 'carrots', 'broccoli', 'LETTUCE',\n",
       "       nan, 'oranges', 'navy beans', 'Oranges', 'Apples', 'Carrots',\n",
       "       'Potatos', 'LENTILS', 'Broccoli', 'Chickpeas', 'CARROTS',\n",
       "       'NAVY BEANS', 'Navy beans', 'BANANAS', 'BROCCOLI', 'Bananas',\n",
       "       'Lentils', 'Lettuce', 'ORANGES', 'Black-eyed peas', 'Grapes',\n",
       "       'GRAPES', 'CHICKPEAS', 'APPLES', 'BLACK-EYED PEAS'], dtype=object)"
      ]
     },
     "execution_count": 5,
     "metadata": {},
     "output_type": "execute_result"
    }
   ],
   "source": [
    "store_data[\"Item\"].unique() \n",
    "# TIP:\n",
    "# You can also access a column with the dot notation\n",
    "# if its name is one word without space\n",
    "# so store_data.Item.unique() works too 😉"
   ]
  },
  {
   "cell_type": "code",
   "execution_count": 6,
   "metadata": {},
   "outputs": [
    {
     "data": {
      "text/plain": [
       "array(['legumes', 'fruits', 'vegetables', nan, 'VEGETABLES', 'Fruits',\n",
       "       'Legumes', 'Vegetables', 'FRUITS', 'LEGUMES'], dtype=object)"
      ]
     },
     "execution_count": 6,
     "metadata": {},
     "output_type": "execute_result"
    }
   ],
   "source": [
    "store_data.Cat.unique()"
   ]
  },
  {
   "attachments": {},
   "cell_type": "markdown",
   "metadata": {},
   "source": [
    "You can also get the distinct values and their count with ***value_counts***"
   ]
  },
  {
   "cell_type": "code",
   "execution_count": 7,
   "metadata": {},
   "outputs": [
    {
     "data": {
      "text/plain": [
       "fruits        3381\n",
       "legumes       3271\n",
       "vegetables    3239\n",
       "Vegetables      14\n",
       "Legumes         12\n",
       "FRUITS          12\n",
       "VEGETABLES       9\n",
       "Fruits           9\n",
       "LEGUMES          9\n",
       "Name: Cat, dtype: int64"
      ]
     },
     "execution_count": 7,
     "metadata": {},
     "output_type": "execute_result"
    }
   ],
   "source": [
    "store_data.Cat.value_counts()"
   ]
  },
  {
   "attachments": {},
   "cell_type": "markdown",
   "metadata": {},
   "source": [
    "A good way to explore your data across multiple columns is to use pandas.crosstab."
   ]
  },
  {
   "cell_type": "code",
   "execution_count": 8,
   "metadata": {},
   "outputs": [
    {
     "data": {
      "text/html": [
       "<div>\n",
       "<style scoped>\n",
       "    .dataframe tbody tr th:only-of-type {\n",
       "        vertical-align: middle;\n",
       "    }\n",
       "\n",
       "    .dataframe tbody tr th {\n",
       "        vertical-align: top;\n",
       "    }\n",
       "\n",
       "    .dataframe thead th {\n",
       "        text-align: right;\n",
       "    }\n",
       "</style>\n",
       "<table border=\"1\" class=\"dataframe\">\n",
       "  <thead>\n",
       "    <tr style=\"text-align: right;\">\n",
       "      <th>Cat</th>\n",
       "      <th>FRUITS</th>\n",
       "      <th>Fruits</th>\n",
       "      <th>LEGUMES</th>\n",
       "      <th>Legumes</th>\n",
       "      <th>VEGETABLES</th>\n",
       "      <th>Vegetables</th>\n",
       "      <th>fruits</th>\n",
       "      <th>legumes</th>\n",
       "      <th>vegetables</th>\n",
       "    </tr>\n",
       "    <tr>\n",
       "      <th>Item</th>\n",
       "      <th></th>\n",
       "      <th></th>\n",
       "      <th></th>\n",
       "      <th></th>\n",
       "      <th></th>\n",
       "      <th></th>\n",
       "      <th></th>\n",
       "      <th></th>\n",
       "      <th></th>\n",
       "    </tr>\n",
       "  </thead>\n",
       "  <tbody>\n",
       "    <tr>\n",
       "      <th>Apples</th>\n",
       "      <td>2</td>\n",
       "      <td>0</td>\n",
       "      <td>0</td>\n",
       "      <td>0</td>\n",
       "      <td>0</td>\n",
       "      <td>0</td>\n",
       "      <td>0</td>\n",
       "      <td>0</td>\n",
       "      <td>0</td>\n",
       "    </tr>\n",
       "    <tr>\n",
       "      <th>BANANAS</th>\n",
       "      <td>0</td>\n",
       "      <td>1</td>\n",
       "      <td>0</td>\n",
       "      <td>0</td>\n",
       "      <td>0</td>\n",
       "      <td>0</td>\n",
       "      <td>1</td>\n",
       "      <td>0</td>\n",
       "      <td>0</td>\n",
       "    </tr>\n",
       "    <tr>\n",
       "      <th>Bananas</th>\n",
       "      <td>1</td>\n",
       "      <td>0</td>\n",
       "      <td>0</td>\n",
       "      <td>0</td>\n",
       "      <td>0</td>\n",
       "      <td>0</td>\n",
       "      <td>1</td>\n",
       "      <td>0</td>\n",
       "      <td>0</td>\n",
       "    </tr>\n",
       "    <tr>\n",
       "      <th>Black-eyed peas</th>\n",
       "      <td>0</td>\n",
       "      <td>0</td>\n",
       "      <td>1</td>\n",
       "      <td>0</td>\n",
       "      <td>0</td>\n",
       "      <td>0</td>\n",
       "      <td>0</td>\n",
       "      <td>1</td>\n",
       "      <td>0</td>\n",
       "    </tr>\n",
       "    <tr>\n",
       "      <th>Broccoli</th>\n",
       "      <td>0</td>\n",
       "      <td>0</td>\n",
       "      <td>0</td>\n",
       "      <td>0</td>\n",
       "      <td>1</td>\n",
       "      <td>0</td>\n",
       "      <td>0</td>\n",
       "      <td>0</td>\n",
       "      <td>2</td>\n",
       "    </tr>\n",
       "    <tr>\n",
       "      <th>CARROTS</th>\n",
       "      <td>0</td>\n",
       "      <td>0</td>\n",
       "      <td>0</td>\n",
       "      <td>0</td>\n",
       "      <td>1</td>\n",
       "      <td>0</td>\n",
       "      <td>0</td>\n",
       "      <td>0</td>\n",
       "      <td>2</td>\n",
       "    </tr>\n",
       "    <tr>\n",
       "      <th>CHICKPEAS</th>\n",
       "      <td>0</td>\n",
       "      <td>0</td>\n",
       "      <td>0</td>\n",
       "      <td>0</td>\n",
       "      <td>0</td>\n",
       "      <td>0</td>\n",
       "      <td>0</td>\n",
       "      <td>2</td>\n",
       "      <td>0</td>\n",
       "    </tr>\n",
       "    <tr>\n",
       "      <th>Carrots</th>\n",
       "      <td>0</td>\n",
       "      <td>0</td>\n",
       "      <td>0</td>\n",
       "      <td>0</td>\n",
       "      <td>0</td>\n",
       "      <td>1</td>\n",
       "      <td>0</td>\n",
       "      <td>0</td>\n",
       "      <td>2</td>\n",
       "    </tr>\n",
       "    <tr>\n",
       "      <th>Chickpeas</th>\n",
       "      <td>0</td>\n",
       "      <td>0</td>\n",
       "      <td>1</td>\n",
       "      <td>1</td>\n",
       "      <td>0</td>\n",
       "      <td>0</td>\n",
       "      <td>0</td>\n",
       "      <td>0</td>\n",
       "      <td>0</td>\n",
       "    </tr>\n",
       "    <tr>\n",
       "      <th>GRAPES</th>\n",
       "      <td>1</td>\n",
       "      <td>2</td>\n",
       "      <td>0</td>\n",
       "      <td>0</td>\n",
       "      <td>0</td>\n",
       "      <td>0</td>\n",
       "      <td>2</td>\n",
       "      <td>0</td>\n",
       "      <td>0</td>\n",
       "    </tr>\n",
       "    <tr>\n",
       "      <th>Grapes</th>\n",
       "      <td>0</td>\n",
       "      <td>0</td>\n",
       "      <td>0</td>\n",
       "      <td>0</td>\n",
       "      <td>0</td>\n",
       "      <td>0</td>\n",
       "      <td>1</td>\n",
       "      <td>0</td>\n",
       "      <td>0</td>\n",
       "    </tr>\n",
       "    <tr>\n",
       "      <th>LENTILS</th>\n",
       "      <td>0</td>\n",
       "      <td>0</td>\n",
       "      <td>0</td>\n",
       "      <td>1</td>\n",
       "      <td>0</td>\n",
       "      <td>0</td>\n",
       "      <td>0</td>\n",
       "      <td>0</td>\n",
       "      <td>0</td>\n",
       "    </tr>\n",
       "    <tr>\n",
       "      <th>LETTUCE</th>\n",
       "      <td>0</td>\n",
       "      <td>0</td>\n",
       "      <td>0</td>\n",
       "      <td>0</td>\n",
       "      <td>0</td>\n",
       "      <td>1</td>\n",
       "      <td>0</td>\n",
       "      <td>0</td>\n",
       "      <td>1</td>\n",
       "    </tr>\n",
       "    <tr>\n",
       "      <th>Lentils</th>\n",
       "      <td>0</td>\n",
       "      <td>0</td>\n",
       "      <td>0</td>\n",
       "      <td>0</td>\n",
       "      <td>0</td>\n",
       "      <td>0</td>\n",
       "      <td>0</td>\n",
       "      <td>1</td>\n",
       "      <td>0</td>\n",
       "    </tr>\n",
       "    <tr>\n",
       "      <th>Lettuce</th>\n",
       "      <td>0</td>\n",
       "      <td>0</td>\n",
       "      <td>0</td>\n",
       "      <td>0</td>\n",
       "      <td>0</td>\n",
       "      <td>3</td>\n",
       "      <td>0</td>\n",
       "      <td>0</td>\n",
       "      <td>0</td>\n",
       "    </tr>\n",
       "    <tr>\n",
       "      <th>NAVY BEANS</th>\n",
       "      <td>0</td>\n",
       "      <td>0</td>\n",
       "      <td>0</td>\n",
       "      <td>0</td>\n",
       "      <td>0</td>\n",
       "      <td>0</td>\n",
       "      <td>0</td>\n",
       "      <td>1</td>\n",
       "      <td>0</td>\n",
       "    </tr>\n",
       "    <tr>\n",
       "      <th>Navy beans</th>\n",
       "      <td>0</td>\n",
       "      <td>0</td>\n",
       "      <td>2</td>\n",
       "      <td>0</td>\n",
       "      <td>0</td>\n",
       "      <td>0</td>\n",
       "      <td>0</td>\n",
       "      <td>1</td>\n",
       "      <td>0</td>\n",
       "    </tr>\n",
       "    <tr>\n",
       "      <th>ORANGES</th>\n",
       "      <td>0</td>\n",
       "      <td>1</td>\n",
       "      <td>0</td>\n",
       "      <td>0</td>\n",
       "      <td>0</td>\n",
       "      <td>0</td>\n",
       "      <td>0</td>\n",
       "      <td>0</td>\n",
       "      <td>0</td>\n",
       "    </tr>\n",
       "    <tr>\n",
       "      <th>Oranges</th>\n",
       "      <td>1</td>\n",
       "      <td>1</td>\n",
       "      <td>0</td>\n",
       "      <td>0</td>\n",
       "      <td>0</td>\n",
       "      <td>0</td>\n",
       "      <td>1</td>\n",
       "      <td>0</td>\n",
       "      <td>0</td>\n",
       "    </tr>\n",
       "    <tr>\n",
       "      <th>Potatos</th>\n",
       "      <td>0</td>\n",
       "      <td>0</td>\n",
       "      <td>0</td>\n",
       "      <td>0</td>\n",
       "      <td>1</td>\n",
       "      <td>1</td>\n",
       "      <td>0</td>\n",
       "      <td>0</td>\n",
       "      <td>1</td>\n",
       "    </tr>\n",
       "    <tr>\n",
       "      <th>apples</th>\n",
       "      <td>0</td>\n",
       "      <td>0</td>\n",
       "      <td>0</td>\n",
       "      <td>0</td>\n",
       "      <td>0</td>\n",
       "      <td>0</td>\n",
       "      <td>910</td>\n",
       "      <td>0</td>\n",
       "      <td>0</td>\n",
       "    </tr>\n",
       "    <tr>\n",
       "      <th>bananas</th>\n",
       "      <td>1</td>\n",
       "      <td>2</td>\n",
       "      <td>0</td>\n",
       "      <td>0</td>\n",
       "      <td>0</td>\n",
       "      <td>0</td>\n",
       "      <td>790</td>\n",
       "      <td>0</td>\n",
       "      <td>0</td>\n",
       "    </tr>\n",
       "    <tr>\n",
       "      <th>black-eyed peas</th>\n",
       "      <td>0</td>\n",
       "      <td>0</td>\n",
       "      <td>0</td>\n",
       "      <td>1</td>\n",
       "      <td>0</td>\n",
       "      <td>0</td>\n",
       "      <td>0</td>\n",
       "      <td>851</td>\n",
       "      <td>0</td>\n",
       "    </tr>\n",
       "    <tr>\n",
       "      <th>broccoli</th>\n",
       "      <td>0</td>\n",
       "      <td>0</td>\n",
       "      <td>0</td>\n",
       "      <td>0</td>\n",
       "      <td>0</td>\n",
       "      <td>1</td>\n",
       "      <td>0</td>\n",
       "      <td>0</td>\n",
       "      <td>816</td>\n",
       "    </tr>\n",
       "    <tr>\n",
       "      <th>carrots</th>\n",
       "      <td>0</td>\n",
       "      <td>0</td>\n",
       "      <td>0</td>\n",
       "      <td>0</td>\n",
       "      <td>0</td>\n",
       "      <td>1</td>\n",
       "      <td>0</td>\n",
       "      <td>0</td>\n",
       "      <td>809</td>\n",
       "    </tr>\n",
       "    <tr>\n",
       "      <th>chickpeas</th>\n",
       "      <td>0</td>\n",
       "      <td>0</td>\n",
       "      <td>0</td>\n",
       "      <td>1</td>\n",
       "      <td>0</td>\n",
       "      <td>0</td>\n",
       "      <td>0</td>\n",
       "      <td>789</td>\n",
       "      <td>0</td>\n",
       "    </tr>\n",
       "    <tr>\n",
       "      <th>grapes</th>\n",
       "      <td>0</td>\n",
       "      <td>0</td>\n",
       "      <td>0</td>\n",
       "      <td>0</td>\n",
       "      <td>0</td>\n",
       "      <td>0</td>\n",
       "      <td>810</td>\n",
       "      <td>0</td>\n",
       "      <td>0</td>\n",
       "    </tr>\n",
       "    <tr>\n",
       "      <th>lentils</th>\n",
       "      <td>0</td>\n",
       "      <td>0</td>\n",
       "      <td>1</td>\n",
       "      <td>2</td>\n",
       "      <td>0</td>\n",
       "      <td>0</td>\n",
       "      <td>0</td>\n",
       "      <td>827</td>\n",
       "      <td>0</td>\n",
       "    </tr>\n",
       "    <tr>\n",
       "      <th>lettuce</th>\n",
       "      <td>0</td>\n",
       "      <td>0</td>\n",
       "      <td>0</td>\n",
       "      <td>0</td>\n",
       "      <td>0</td>\n",
       "      <td>1</td>\n",
       "      <td>0</td>\n",
       "      <td>0</td>\n",
       "      <td>804</td>\n",
       "    </tr>\n",
       "    <tr>\n",
       "      <th>navy beans</th>\n",
       "      <td>0</td>\n",
       "      <td>0</td>\n",
       "      <td>0</td>\n",
       "      <td>0</td>\n",
       "      <td>0</td>\n",
       "      <td>0</td>\n",
       "      <td>0</td>\n",
       "      <td>793</td>\n",
       "      <td>0</td>\n",
       "    </tr>\n",
       "    <tr>\n",
       "      <th>oranges</th>\n",
       "      <td>0</td>\n",
       "      <td>0</td>\n",
       "      <td>0</td>\n",
       "      <td>0</td>\n",
       "      <td>0</td>\n",
       "      <td>0</td>\n",
       "      <td>861</td>\n",
       "      <td>0</td>\n",
       "      <td>0</td>\n",
       "    </tr>\n",
       "    <tr>\n",
       "      <th>potatos</th>\n",
       "      <td>0</td>\n",
       "      <td>0</td>\n",
       "      <td>0</td>\n",
       "      <td>0</td>\n",
       "      <td>2</td>\n",
       "      <td>1</td>\n",
       "      <td>0</td>\n",
       "      <td>0</td>\n",
       "      <td>796</td>\n",
       "    </tr>\n",
       "  </tbody>\n",
       "</table>\n",
       "</div>"
      ],
      "text/plain": [
       "Cat              FRUITS  Fruits  LEGUMES  Legumes  VEGETABLES  Vegetables  \\\n",
       "Item                                                                        \n",
       "Apples                2       0        0        0           0           0   \n",
       "BANANAS               0       1        0        0           0           0   \n",
       "Bananas               1       0        0        0           0           0   \n",
       "Black-eyed peas       0       0        1        0           0           0   \n",
       "Broccoli              0       0        0        0           1           0   \n",
       "CARROTS               0       0        0        0           1           0   \n",
       "CHICKPEAS             0       0        0        0           0           0   \n",
       "Carrots               0       0        0        0           0           1   \n",
       "Chickpeas             0       0        1        1           0           0   \n",
       "GRAPES                1       2        0        0           0           0   \n",
       "Grapes                0       0        0        0           0           0   \n",
       "LENTILS               0       0        0        1           0           0   \n",
       "LETTUCE               0       0        0        0           0           1   \n",
       "Lentils               0       0        0        0           0           0   \n",
       "Lettuce               0       0        0        0           0           3   \n",
       "NAVY BEANS            0       0        0        0           0           0   \n",
       "Navy beans            0       0        2        0           0           0   \n",
       "ORANGES               0       1        0        0           0           0   \n",
       "Oranges               1       1        0        0           0           0   \n",
       "Potatos               0       0        0        0           1           1   \n",
       "apples                0       0        0        0           0           0   \n",
       "bananas               1       2        0        0           0           0   \n",
       "black-eyed peas       0       0        0        1           0           0   \n",
       "broccoli              0       0        0        0           0           1   \n",
       "carrots               0       0        0        0           0           1   \n",
       "chickpeas             0       0        0        1           0           0   \n",
       "grapes                0       0        0        0           0           0   \n",
       "lentils               0       0        1        2           0           0   \n",
       "lettuce               0       0        0        0           0           1   \n",
       "navy beans            0       0        0        0           0           0   \n",
       "oranges               0       0        0        0           0           0   \n",
       "potatos               0       0        0        0           2           1   \n",
       "\n",
       "Cat              fruits  legumes  vegetables  \n",
       "Item                                          \n",
       "Apples                0        0           0  \n",
       "BANANAS               1        0           0  \n",
       "Bananas               1        0           0  \n",
       "Black-eyed peas       0        1           0  \n",
       "Broccoli              0        0           2  \n",
       "CARROTS               0        0           2  \n",
       "CHICKPEAS             0        2           0  \n",
       "Carrots               0        0           2  \n",
       "Chickpeas             0        0           0  \n",
       "GRAPES                2        0           0  \n",
       "Grapes                1        0           0  \n",
       "LENTILS               0        0           0  \n",
       "LETTUCE               0        0           1  \n",
       "Lentils               0        1           0  \n",
       "Lettuce               0        0           0  \n",
       "NAVY BEANS            0        1           0  \n",
       "Navy beans            0        1           0  \n",
       "ORANGES               0        0           0  \n",
       "Oranges               1        0           0  \n",
       "Potatos               0        0           1  \n",
       "apples              910        0           0  \n",
       "bananas             790        0           0  \n",
       "black-eyed peas       0      851           0  \n",
       "broccoli              0        0         816  \n",
       "carrots               0        0         809  \n",
       "chickpeas             0      789           0  \n",
       "grapes              810        0           0  \n",
       "lentils               0      827           0  \n",
       "lettuce               0        0         804  \n",
       "navy beans            0      793           0  \n",
       "oranges             861        0           0  \n",
       "potatos               0        0         796  "
      ]
     },
     "execution_count": 8,
     "metadata": {},
     "output_type": "execute_result"
    }
   ],
   "source": [
    "crosstab = pd.crosstab(                # By default crosstab creates a simple frequency (count) table.\n",
    "                index=store_data.Item,\n",
    "                columns=store_data.Cat\n",
    "            )\n",
    "crosstab"
   ]
  },
  {
   "attachments": {},
   "cell_type": "markdown",
   "metadata": {},
   "source": [
    "To narrow it down a little..."
   ]
  },
  {
   "cell_type": "code",
   "execution_count": 9,
   "metadata": {},
   "outputs": [
    {
     "data": {
      "text/html": [
       "<div>\n",
       "<style scoped>\n",
       "    .dataframe tbody tr th:only-of-type {\n",
       "        vertical-align: middle;\n",
       "    }\n",
       "\n",
       "    .dataframe tbody tr th {\n",
       "        vertical-align: top;\n",
       "    }\n",
       "\n",
       "    .dataframe thead th {\n",
       "        text-align: right;\n",
       "    }\n",
       "</style>\n",
       "<table border=\"1\" class=\"dataframe\">\n",
       "  <thead>\n",
       "    <tr style=\"text-align: right;\">\n",
       "      <th>Cat</th>\n",
       "      <th>VEGETABLES</th>\n",
       "      <th>Vegetables</th>\n",
       "      <th>vegetables</th>\n",
       "    </tr>\n",
       "    <tr>\n",
       "      <th>Item</th>\n",
       "      <th></th>\n",
       "      <th></th>\n",
       "      <th></th>\n",
       "    </tr>\n",
       "  </thead>\n",
       "  <tbody>\n",
       "    <tr>\n",
       "      <th>CARROTS</th>\n",
       "      <td>1</td>\n",
       "      <td>0</td>\n",
       "      <td>2</td>\n",
       "    </tr>\n",
       "    <tr>\n",
       "      <th>Carrots</th>\n",
       "      <td>0</td>\n",
       "      <td>1</td>\n",
       "      <td>2</td>\n",
       "    </tr>\n",
       "    <tr>\n",
       "      <th>carrots</th>\n",
       "      <td>0</td>\n",
       "      <td>1</td>\n",
       "      <td>809</td>\n",
       "    </tr>\n",
       "  </tbody>\n",
       "</table>\n",
       "</div>"
      ],
      "text/plain": [
       "Cat      VEGETABLES  Vegetables  vegetables\n",
       "Item                                       \n",
       "CARROTS           1           0           2\n",
       "Carrots           0           1           2\n",
       "carrots           0           1         809"
      ]
     },
     "execution_count": 9,
     "metadata": {},
     "output_type": "execute_result"
    }
   ],
   "source": [
    "crosstab.loc[\n",
    "    crosstab.index.str.lower() == 'carrots',                            # Index boolean mask\n",
    "    [col for col in crosstab.columns if col.lower() == 'vegetables']    # Selected columns\n",
    "]"
   ]
  },
  {
   "attachments": {},
   "cell_type": "markdown",
   "metadata": {},
   "source": [
    "You can check for null values with the help of ***isna*** or ***isnull*** either for the entire dataframe, a subset of columns or a single column."
   ]
  },
  {
   "cell_type": "code",
   "execution_count": 10,
   "metadata": {},
   "outputs": [
    {
     "data": {
      "text/plain": [
       "Tran ID        0\n",
       "Cat           82\n",
       "Item          72\n",
       "Qty           15\n",
       "Unit Price    27\n",
       "dtype: int64"
      ]
     },
     "execution_count": 10,
     "metadata": {},
     "output_type": "execute_result"
    }
   ],
   "source": [
    "store_data.isnull().sum()"
   ]
  },
  {
   "attachments": {},
   "cell_type": "markdown",
   "metadata": {},
   "source": [
    "And to check for duplicates, we can use ***duplicated***"
   ]
  },
  {
   "cell_type": "code",
   "execution_count": 11,
   "metadata": {},
   "outputs": [
    {
     "data": {
      "text/plain": [
       "175"
      ]
     },
     "execution_count": 11,
     "metadata": {},
     "output_type": "execute_result"
    }
   ],
   "source": [
    "store_data.duplicated().sum()   # Duplicated records count."
   ]
  },
  {
   "cell_type": "code",
   "execution_count": 12,
   "metadata": {},
   "outputs": [
    {
     "data": {
      "text/html": [
       "<div>\n",
       "<style scoped>\n",
       "    .dataframe tbody tr th:only-of-type {\n",
       "        vertical-align: middle;\n",
       "    }\n",
       "\n",
       "    .dataframe tbody tr th {\n",
       "        vertical-align: top;\n",
       "    }\n",
       "\n",
       "    .dataframe thead th {\n",
       "        text-align: right;\n",
       "    }\n",
       "</style>\n",
       "<table border=\"1\" class=\"dataframe\">\n",
       "  <thead>\n",
       "    <tr style=\"text-align: right;\">\n",
       "      <th></th>\n",
       "      <th>Tran ID</th>\n",
       "      <th>Cat</th>\n",
       "      <th>Item</th>\n",
       "      <th>Qty</th>\n",
       "      <th>Unit Price</th>\n",
       "    </tr>\n",
       "  </thead>\n",
       "  <tbody>\n",
       "    <tr>\n",
       "      <th>75</th>\n",
       "      <td>25248</td>\n",
       "      <td>legumes</td>\n",
       "      <td>black-eyed peas</td>\n",
       "      <td>1.0</td>\n",
       "      <td>8.23</td>\n",
       "    </tr>\n",
       "    <tr>\n",
       "      <th>77</th>\n",
       "      <td>25248</td>\n",
       "      <td>legumes</td>\n",
       "      <td>black-eyed peas</td>\n",
       "      <td>1.0</td>\n",
       "      <td>8.23</td>\n",
       "    </tr>\n",
       "    <tr>\n",
       "      <th>127</th>\n",
       "      <td>25433</td>\n",
       "      <td>vegetables</td>\n",
       "      <td>potatos</td>\n",
       "      <td>1.0</td>\n",
       "      <td>1.97</td>\n",
       "    </tr>\n",
       "    <tr>\n",
       "      <th>128</th>\n",
       "      <td>25433</td>\n",
       "      <td>vegetables</td>\n",
       "      <td>potatos</td>\n",
       "      <td>1.0</td>\n",
       "      <td>1.97</td>\n",
       "    </tr>\n",
       "    <tr>\n",
       "      <th>132</th>\n",
       "      <td>25446</td>\n",
       "      <td>vegetables</td>\n",
       "      <td>broccoli</td>\n",
       "      <td>1.0</td>\n",
       "      <td>2.18</td>\n",
       "    </tr>\n",
       "    <tr>\n",
       "      <th>133</th>\n",
       "      <td>25446</td>\n",
       "      <td>vegetables</td>\n",
       "      <td>broccoli</td>\n",
       "      <td>1.0</td>\n",
       "      <td>2.18</td>\n",
       "    </tr>\n",
       "    <tr>\n",
       "      <th>150</th>\n",
       "      <td>25499</td>\n",
       "      <td>vegetables</td>\n",
       "      <td>broccoli</td>\n",
       "      <td>3.0</td>\n",
       "      <td>2.18</td>\n",
       "    </tr>\n",
       "    <tr>\n",
       "      <th>151</th>\n",
       "      <td>25499</td>\n",
       "      <td>vegetables</td>\n",
       "      <td>broccoli</td>\n",
       "      <td>3.0</td>\n",
       "      <td>2.18</td>\n",
       "    </tr>\n",
       "    <tr>\n",
       "      <th>224</th>\n",
       "      <td>25686</td>\n",
       "      <td>vegetables</td>\n",
       "      <td>potatos</td>\n",
       "      <td>4.0</td>\n",
       "      <td>1.97</td>\n",
       "    </tr>\n",
       "    <tr>\n",
       "      <th>225</th>\n",
       "      <td>25686</td>\n",
       "      <td>vegetables</td>\n",
       "      <td>potatos</td>\n",
       "      <td>4.0</td>\n",
       "      <td>1.97</td>\n",
       "    </tr>\n",
       "  </tbody>\n",
       "</table>\n",
       "</div>"
      ],
      "text/plain": [
       "     Tran ID         Cat             Item  Qty  Unit Price\n",
       "75     25248     legumes  black-eyed peas  1.0        8.23\n",
       "77     25248     legumes  black-eyed peas  1.0        8.23\n",
       "127    25433  vegetables          potatos  1.0        1.97\n",
       "128    25433  vegetables          potatos  1.0        1.97\n",
       "132    25446  vegetables         broccoli  1.0        2.18\n",
       "133    25446  vegetables         broccoli  1.0        2.18\n",
       "150    25499  vegetables         broccoli  3.0        2.18\n",
       "151    25499  vegetables         broccoli  3.0        2.18\n",
       "224    25686  vegetables          potatos  4.0        1.97\n",
       "225    25686  vegetables          potatos  4.0        1.97"
      ]
     },
     "execution_count": 12,
     "metadata": {},
     "output_type": "execute_result"
    }
   ],
   "source": [
    "store_data[store_data.duplicated(keep=False)].head(10)  # Explore the duplicated rows."
   ]
  },
  {
   "attachments": {},
   "cell_type": "markdown",
   "metadata": {},
   "source": [
    "### Data Wrangling, the fun stuff! 😃"
   ]
  },
  {
   "attachments": {},
   "cell_type": "markdown",
   "metadata": {},
   "source": [
    "Renaming the columns to be more convenient. Here we will remove the spaces in the column names, convert them to lower case and giving some a more meaningful name."
   ]
  },
  {
   "cell_type": "code",
   "execution_count": 13,
   "metadata": {},
   "outputs": [
    {
     "data": {
      "text/plain": [
       "Index(['tran_id', 'category', 'item', 'quantity', 'unit_price'], dtype='object')"
      ]
     },
     "execution_count": 13,
     "metadata": {},
     "output_type": "execute_result"
    }
   ],
   "source": [
    "# Doing a bulk rename\n",
    "store_data.columns = [col.replace(\" \", \"_\").lower() for col in store_data.columns]\n",
    "\n",
    "# Doing individual rename\n",
    "store_data.rename(\n",
    "    columns={\n",
    "        \"cat\": \"category\",\n",
    "        \"qty\": \"quantity\"\n",
    "    },\n",
    "    inplace=True    # Without this, the rename method with return a copy of the modified dataframe.\n",
    ")\n",
    "\n",
    "store_data.columns"
   ]
  },
  {
   "attachments": {},
   "cell_type": "markdown",
   "metadata": {},
   "source": [
    "We saw 175 duplicated rows during our exploration! let's get rid of those as they are likely a mistake."
   ]
  },
  {
   "cell_type": "code",
   "execution_count": 14,
   "metadata": {},
   "outputs": [
    {
     "name": "stdout",
     "output_type": "stream",
     "text": [
      "Rows count before removing duplicates 10038, and after 9863. Thid diff is 175\n"
     ]
    }
   ],
   "source": [
    "# One way to drop the duplicates is to not select them.\n",
    "count_before = len(store_data)\n",
    "store_data = store_data[~store_data.duplicated()]\n",
    "count_after = len(store_data)\n",
    "\n",
    "print(f\"Rows count before removing duplicates {count_before}, and after {count_after}. Thid diff is {count_before - count_after}\")"
   ]
  },
  {
   "attachments": {},
   "cell_type": "markdown",
   "metadata": {},
   "source": [
    "The requirements don't need the ***tran_id*** (transaction ID) column. Let's drop it!"
   ]
  },
  {
   "cell_type": "code",
   "execution_count": 15,
   "metadata": {},
   "outputs": [
    {
     "name": "stdout",
     "output_type": "stream",
     "text": [
      "<class 'pandas.core.frame.DataFrame'>\n",
      "Int64Index: 9863 entries, 0 to 10037\n",
      "Data columns (total 4 columns):\n",
      " #   Column      Non-Null Count  Dtype  \n",
      "---  ------      --------------  -----  \n",
      " 0   category    9781 non-null   object \n",
      " 1   item        9791 non-null   object \n",
      " 2   quantity    9848 non-null   float64\n",
      " 3   unit_price  9836 non-null   float64\n",
      "dtypes: float64(2), object(2)\n",
      "memory usage: 385.3+ KB\n"
     ]
    }
   ],
   "source": [
    "store_data.drop(\n",
    "    columns=\"tran_id\",\n",
    "    inplace=True        # Again without this, a copy of the modified dataframe will be returned.\n",
    "    )\n",
    "\n",
    "store_data.info()"
   ]
  },
  {
   "attachments": {},
   "cell_type": "markdown",
   "metadata": {},
   "source": [
    "OK, let's unify the ***item*** and ***category*** columns. We will change everything to lower case."
   ]
  },
  {
   "cell_type": "code",
   "execution_count": 16,
   "metadata": {},
   "outputs": [],
   "source": [
    "store_data.category = store_data.category.str.lower()\n",
    "store_data.item = store_data.item.str.lower()"
   ]
  },
  {
   "attachments": {},
   "cell_type": "markdown",
   "metadata": {},
   "source": [
    "Now, let's deal with null values! Yikes 😣!\n",
    "<br>As a reminder, let's check for them again."
   ]
  },
  {
   "cell_type": "code",
   "execution_count": 17,
   "metadata": {},
   "outputs": [
    {
     "data": {
      "text/plain": [
       "category      82\n",
       "item          72\n",
       "quantity      15\n",
       "unit_price    27\n",
       "dtype: int64"
      ]
     },
     "execution_count": 17,
     "metadata": {},
     "output_type": "execute_result"
    }
   ],
   "source": [
    "store_data.isna().sum() # We used isna instead of isnull this time. Same outcome!"
   ]
  },
  {
   "attachments": {},
   "cell_type": "markdown",
   "metadata": {},
   "source": [
    "First, the ***quantity*** column."
   ]
  },
  {
   "cell_type": "code",
   "execution_count": 18,
   "metadata": {},
   "outputs": [
    {
     "data": {
      "text/plain": [
       "category      78\n",
       "item          65\n",
       "quantity       0\n",
       "unit_price    26\n",
       "dtype: int64"
      ]
     },
     "execution_count": 18,
     "metadata": {},
     "output_type": "execute_result"
    }
   ],
   "source": [
    "store_data.dropna(\n",
    "    subset=\"quantity\",\n",
    "    inplace=True        # You know why using this by now! I won't highlight it again.\n",
    "    )\n",
    "\n",
    "store_data.isna().sum()"
   ]
  },
  {
   "attachments": {},
   "cell_type": "markdown",
   "metadata": {},
   "source": [
    "We will drop the row if both the ***category*** and the ***item*** are nulls"
   ]
  },
  {
   "cell_type": "code",
   "execution_count": 19,
   "metadata": {},
   "outputs": [
    {
     "data": {
      "text/plain": [
       "category      48\n",
       "item           0\n",
       "quantity       0\n",
       "unit_price    15\n",
       "dtype: int64"
      ]
     },
     "execution_count": 19,
     "metadata": {},
     "output_type": "execute_result"
    }
   ],
   "source": [
    "store_data.dropna(\n",
    "    subset=[\"quantity\", \"item\"],\n",
    "    inplace=True\n",
    ")\n",
    "\n",
    "store_data.isna().sum() # Great! now the item column in null-free 😊"
   ]
  },
  {
   "attachments": {},
   "cell_type": "markdown",
   "metadata": {},
   "source": [
    "Next, the ***category*** column."
   ]
  },
  {
   "cell_type": "code",
   "execution_count": 20,
   "metadata": {},
   "outputs": [
    {
     "data": {
      "text/html": [
       "<div>\n",
       "<style scoped>\n",
       "    .dataframe tbody tr th:only-of-type {\n",
       "        vertical-align: middle;\n",
       "    }\n",
       "\n",
       "    .dataframe tbody tr th {\n",
       "        vertical-align: top;\n",
       "    }\n",
       "\n",
       "    .dataframe thead th {\n",
       "        text-align: right;\n",
       "    }\n",
       "</style>\n",
       "<table border=\"1\" class=\"dataframe\">\n",
       "  <thead>\n",
       "    <tr style=\"text-align: right;\">\n",
       "      <th></th>\n",
       "      <th>category</th>\n",
       "      <th>item</th>\n",
       "    </tr>\n",
       "  </thead>\n",
       "  <tbody>\n",
       "    <tr>\n",
       "      <th>0</th>\n",
       "      <td>fruits</td>\n",
       "      <td>apples</td>\n",
       "    </tr>\n",
       "    <tr>\n",
       "      <th>1</th>\n",
       "      <td>fruits</td>\n",
       "      <td>bananas</td>\n",
       "    </tr>\n",
       "    <tr>\n",
       "      <th>2</th>\n",
       "      <td>fruits</td>\n",
       "      <td>grapes</td>\n",
       "    </tr>\n",
       "    <tr>\n",
       "      <th>3</th>\n",
       "      <td>fruits</td>\n",
       "      <td>oranges</td>\n",
       "    </tr>\n",
       "    <tr>\n",
       "      <th>4</th>\n",
       "      <td>legumes</td>\n",
       "      <td>black-eyed peas</td>\n",
       "    </tr>\n",
       "    <tr>\n",
       "      <th>5</th>\n",
       "      <td>legumes</td>\n",
       "      <td>chickpeas</td>\n",
       "    </tr>\n",
       "    <tr>\n",
       "      <th>6</th>\n",
       "      <td>legumes</td>\n",
       "      <td>lentils</td>\n",
       "    </tr>\n",
       "    <tr>\n",
       "      <th>7</th>\n",
       "      <td>legumes</td>\n",
       "      <td>navy beans</td>\n",
       "    </tr>\n",
       "    <tr>\n",
       "      <th>8</th>\n",
       "      <td>vegetables</td>\n",
       "      <td>broccoli</td>\n",
       "    </tr>\n",
       "    <tr>\n",
       "      <th>9</th>\n",
       "      <td>vegetables</td>\n",
       "      <td>carrots</td>\n",
       "    </tr>\n",
       "    <tr>\n",
       "      <th>10</th>\n",
       "      <td>vegetables</td>\n",
       "      <td>lettuce</td>\n",
       "    </tr>\n",
       "    <tr>\n",
       "      <th>11</th>\n",
       "      <td>vegetables</td>\n",
       "      <td>potatos</td>\n",
       "    </tr>\n",
       "  </tbody>\n",
       "</table>\n",
       "</div>"
      ],
      "text/plain": [
       "      category             item\n",
       "0       fruits           apples\n",
       "1       fruits          bananas\n",
       "2       fruits           grapes\n",
       "3       fruits          oranges\n",
       "4      legumes  black-eyed peas\n",
       "5      legumes        chickpeas\n",
       "6      legumes          lentils\n",
       "7      legumes       navy beans\n",
       "8   vegetables         broccoli\n",
       "9   vegetables          carrots\n",
       "10  vegetables          lettuce\n",
       "11  vegetables          potatos"
      ]
     },
     "execution_count": 20,
     "metadata": {},
     "output_type": "execute_result"
    }
   ],
   "source": [
    "categories = store_data[[\"category\", \"item\"]].groupby(by=[\"category\", \"item\"], as_index=False).count()\n",
    "categories"
   ]
  },
  {
   "cell_type": "code",
   "execution_count": 21,
   "metadata": {},
   "outputs": [
    {
     "data": {
      "text/plain": [
       "{'apples': 'fruits',\n",
       " 'bananas': 'fruits',\n",
       " 'grapes': 'fruits',\n",
       " 'oranges': 'fruits',\n",
       " 'black-eyed peas': 'legumes',\n",
       " 'chickpeas': 'legumes',\n",
       " 'lentils': 'legumes',\n",
       " 'navy beans': 'legumes',\n",
       " 'broccoli': 'vegetables',\n",
       " 'carrots': 'vegetables',\n",
       " 'lettuce': 'vegetables',\n",
       " 'potatos': 'vegetables'}"
      ]
     },
     "execution_count": 21,
     "metadata": {},
     "output_type": "execute_result"
    }
   ],
   "source": [
    "categories_dict = {row[\"item\"]: row[\"category\"] for _, row in categories.iterrows()}\n",
    "categories_dict"
   ]
  },
  {
   "cell_type": "code",
   "execution_count": 22,
   "metadata": {},
   "outputs": [
    {
     "data": {
      "text/plain": [
       "category       0\n",
       "item           0\n",
       "quantity       0\n",
       "unit_price    15\n",
       "dtype: int64"
      ]
     },
     "execution_count": 22,
     "metadata": {},
     "output_type": "execute_result"
    }
   ],
   "source": [
    "store_data.category = store_data.item.apply(lambda x: categories_dict[x])\n",
    "# TIP:\n",
    "# You pass pass custom functions to a dataframe or a series (column) with the apply() method.\n",
    "# It can be a Lambda function as in this line of code.\n",
    "# The function's parameters' count must be the same as the passed elements.\n",
    "# Here we only pass values from one column, so only one parameter is used in the lambda function.\n",
    "\n",
    "store_data.isna().sum()"
   ]
  },
  {
   "attachments": {},
   "cell_type": "markdown",
   "metadata": {},
   "source": [
    "And for the last remaining null-containing column ***unit_price***, we can do like we did for the ***quantity*** column assuming unified unit price across items."
   ]
  },
  {
   "cell_type": "code",
   "execution_count": 23,
   "metadata": {},
   "outputs": [
    {
     "data": {
      "text/plain": [
       "{'apples': 9.6,\n",
       " 'bananas': 6.72,\n",
       " 'black-eyed peas': 8.23,\n",
       " 'broccoli': 2.18,\n",
       " 'carrots': 6.05,\n",
       " 'chickpeas': 5.12,\n",
       " 'grapes': 3.2,\n",
       " 'lentils': 1.73,\n",
       " 'lettuce': 9.11,\n",
       " 'navy beans': 0.24,\n",
       " 'oranges': 9.44,\n",
       " 'potatos': 1.97}"
      ]
     },
     "execution_count": 23,
     "metadata": {},
     "output_type": "execute_result"
    }
   ],
   "source": [
    "unit_prices = store_data[[\"item\", \"unit_price\"]].groupby(by=[\"item\", \"unit_price\"], as_index=False).count()\n",
    "unit_prices_dict = {row[\"item\"]: row[\"unit_price\"] for _, row in unit_prices.iterrows()}\n",
    "unit_prices_dict"
   ]
  },
  {
   "cell_type": "code",
   "execution_count": 24,
   "metadata": {},
   "outputs": [
    {
     "data": {
      "text/plain": [
       "category      0\n",
       "item          0\n",
       "quantity      0\n",
       "unit_price    0\n",
       "dtype: int64"
      ]
     },
     "execution_count": 24,
     "metadata": {},
     "output_type": "execute_result"
    }
   ],
   "source": [
    "store_data.unit_price = store_data.item.apply(lambda x: unit_prices_dict[x])\n",
    "\n",
    "store_data.isna().sum()"
   ]
  },
  {
   "attachments": {},
   "cell_type": "markdown",
   "metadata": {},
   "source": [
    "Yaaaay 😀! No null values!"
   ]
  },
  {
   "attachments": {},
   "cell_type": "markdown",
   "metadata": {},
   "source": [
    "Now that there aren't any duplicates nor null values in our data, Let's enrich it for our analysis."
   ]
  },
  {
   "attachments": {},
   "cell_type": "markdown",
   "metadata": {},
   "source": [
    "First, we will change the ***quantity*** column's type to int. Quantity can't be a fraction in our example 🤷‍♂️"
   ]
  },
  {
   "cell_type": "code",
   "execution_count": 25,
   "metadata": {},
   "outputs": [],
   "source": [
    "store_data.quantity = store_data.quantity.astype(int)"
   ]
  },
  {
   "attachments": {},
   "cell_type": "markdown",
   "metadata": {},
   "source": [
    "Then, we will add the ***total_amount*** column as ***quantity*** x ***unit_price***."
   ]
  },
  {
   "cell_type": "code",
   "execution_count": 26,
   "metadata": {},
   "outputs": [],
   "source": [
    "store_data[\"total_amount\"] = store_data.quantity * store_data.unit_price"
   ]
  },
  {
   "attachments": {},
   "cell_type": "markdown",
   "metadata": {},
   "source": [
    "Next, will add a ***done_on*** date column. For future considerations if more that one files are analysed for more than one day, it will hold the date when the file was created as denoted in the file name. (remember the re module that we imported? now we will use it 😊)."
   ]
  },
  {
   "cell_type": "code",
   "execution_count": 27,
   "metadata": {},
   "outputs": [],
   "source": [
    "file_date = re.search(r\"\\d+\", file_path.stem).group()       # Regex to match all the digits in the file name without the extension (stem)\n",
    "file_date = datetime.datetime.strptime(file_date, \"%Y%m%d\") # Parse a date object from the previouse match.\n",
    "\n",
    "store_data[\"done_on\"] = file_date"
   ]
  },
  {
   "attachments": {},
   "cell_type": "markdown",
   "metadata": {},
   "source": [
    "Now to have a look at what our data looks like"
   ]
  },
  {
   "cell_type": "code",
   "execution_count": 28,
   "metadata": {},
   "outputs": [
    {
     "data": {
      "text/html": [
       "<div>\n",
       "<style scoped>\n",
       "    .dataframe tbody tr th:only-of-type {\n",
       "        vertical-align: middle;\n",
       "    }\n",
       "\n",
       "    .dataframe tbody tr th {\n",
       "        vertical-align: top;\n",
       "    }\n",
       "\n",
       "    .dataframe thead th {\n",
       "        text-align: right;\n",
       "    }\n",
       "</style>\n",
       "<table border=\"1\" class=\"dataframe\">\n",
       "  <thead>\n",
       "    <tr style=\"text-align: right;\">\n",
       "      <th></th>\n",
       "      <th>category</th>\n",
       "      <th>item</th>\n",
       "      <th>quantity</th>\n",
       "      <th>unit_price</th>\n",
       "      <th>total_amount</th>\n",
       "      <th>done_on</th>\n",
       "    </tr>\n",
       "  </thead>\n",
       "  <tbody>\n",
       "    <tr>\n",
       "      <th>0</th>\n",
       "      <td>legumes</td>\n",
       "      <td>black-eyed peas</td>\n",
       "      <td>2</td>\n",
       "      <td>8.23</td>\n",
       "      <td>16.46</td>\n",
       "      <td>2023-01-16</td>\n",
       "    </tr>\n",
       "    <tr>\n",
       "      <th>1</th>\n",
       "      <td>legumes</td>\n",
       "      <td>chickpeas</td>\n",
       "      <td>2</td>\n",
       "      <td>5.12</td>\n",
       "      <td>10.24</td>\n",
       "      <td>2023-01-16</td>\n",
       "    </tr>\n",
       "    <tr>\n",
       "      <th>2</th>\n",
       "      <td>fruits</td>\n",
       "      <td>apples</td>\n",
       "      <td>2</td>\n",
       "      <td>9.60</td>\n",
       "      <td>19.20</td>\n",
       "      <td>2023-01-16</td>\n",
       "    </tr>\n",
       "    <tr>\n",
       "      <th>3</th>\n",
       "      <td>fruits</td>\n",
       "      <td>grapes</td>\n",
       "      <td>2</td>\n",
       "      <td>3.20</td>\n",
       "      <td>6.40</td>\n",
       "      <td>2023-01-16</td>\n",
       "    </tr>\n",
       "    <tr>\n",
       "      <th>4</th>\n",
       "      <td>vegetables</td>\n",
       "      <td>lettuce</td>\n",
       "      <td>3</td>\n",
       "      <td>9.11</td>\n",
       "      <td>27.33</td>\n",
       "      <td>2023-01-16</td>\n",
       "    </tr>\n",
       "  </tbody>\n",
       "</table>\n",
       "</div>"
      ],
      "text/plain": [
       "     category             item  quantity  unit_price  total_amount    done_on\n",
       "0     legumes  black-eyed peas         2        8.23         16.46 2023-01-16\n",
       "1     legumes        chickpeas         2        5.12         10.24 2023-01-16\n",
       "2      fruits           apples         2        9.60         19.20 2023-01-16\n",
       "3      fruits           grapes         2        3.20          6.40 2023-01-16\n",
       "4  vegetables          lettuce         3        9.11         27.33 2023-01-16"
      ]
     },
     "execution_count": 28,
     "metadata": {},
     "output_type": "execute_result"
    }
   ],
   "source": [
    "store_data.head()"
   ]
  },
  {
   "attachments": {},
   "cell_type": "markdown",
   "metadata": {},
   "source": [
    "And save the new data to file for future use."
   ]
  },
  {
   "cell_type": "code",
   "execution_count": 29,
   "metadata": {},
   "outputs": [],
   "source": [
    "processed_file_path = pathlib.Path(file_path.stem + \"_process.csv\")\n",
    "store_data.to_csv(\n",
    "    processed_file_path, \n",
    "    index=False             # To skip the index that pandas added from the new file.\n",
    "    )"
   ]
  },
  {
   "attachments": {},
   "cell_type": "markdown",
   "metadata": {},
   "source": [
    "### And now, the analysis 🤩"
   ]
  },
  {
   "attachments": {},
   "cell_type": "markdown",
   "metadata": {},
   "source": [
    "First, the total revenue for each item category"
   ]
  },
  {
   "cell_type": "code",
   "execution_count": 30,
   "metadata": {},
   "outputs": [
    {
     "data": {
      "text/html": [
       "<div>\n",
       "<style scoped>\n",
       "    .dataframe tbody tr th:only-of-type {\n",
       "        vertical-align: middle;\n",
       "    }\n",
       "\n",
       "    .dataframe tbody tr th {\n",
       "        vertical-align: top;\n",
       "    }\n",
       "\n",
       "    .dataframe thead th {\n",
       "        text-align: right;\n",
       "    }\n",
       "</style>\n",
       "<table border=\"1\" class=\"dataframe\">\n",
       "  <thead>\n",
       "    <tr style=\"text-align: right;\">\n",
       "      <th></th>\n",
       "      <th>total_amount</th>\n",
       "    </tr>\n",
       "    <tr>\n",
       "      <th>category</th>\n",
       "      <th></th>\n",
       "    </tr>\n",
       "  </thead>\n",
       "  <tbody>\n",
       "    <tr>\n",
       "      <th>fruits</th>\n",
       "      <td>73964.48</td>\n",
       "    </tr>\n",
       "    <tr>\n",
       "      <th>legumes</th>\n",
       "      <td>38463.31</td>\n",
       "    </tr>\n",
       "    <tr>\n",
       "      <th>vegetables</th>\n",
       "      <td>46240.37</td>\n",
       "    </tr>\n",
       "  </tbody>\n",
       "</table>\n",
       "</div>"
      ],
      "text/plain": [
       "            total_amount\n",
       "category                \n",
       "fruits          73964.48\n",
       "legumes         38463.31\n",
       "vegetables      46240.37"
      ]
     },
     "execution_count": 30,
     "metadata": {},
     "output_type": "execute_result"
    }
   ],
   "source": [
    "(\n",
    "    store_data[[\"category\", \"total_amount\"]]\n",
    "    .groupby(by=\"category\")\n",
    "    .sum()\n",
    ")"
   ]
  },
  {
   "attachments": {},
   "cell_type": "markdown",
   "metadata": {},
   "source": [
    "Next, the top 10 purchased items"
   ]
  },
  {
   "cell_type": "code",
   "execution_count": 31,
   "metadata": {},
   "outputs": [
    {
     "data": {
      "text/html": [
       "<div>\n",
       "<style scoped>\n",
       "    .dataframe tbody tr th:only-of-type {\n",
       "        vertical-align: middle;\n",
       "    }\n",
       "\n",
       "    .dataframe tbody tr th {\n",
       "        vertical-align: top;\n",
       "    }\n",
       "\n",
       "    .dataframe thead th {\n",
       "        text-align: right;\n",
       "    }\n",
       "</style>\n",
       "<table border=\"1\" class=\"dataframe\">\n",
       "  <thead>\n",
       "    <tr style=\"text-align: right;\">\n",
       "      <th></th>\n",
       "      <th>quantity</th>\n",
       "    </tr>\n",
       "    <tr>\n",
       "      <th>item</th>\n",
       "      <th></th>\n",
       "    </tr>\n",
       "  </thead>\n",
       "  <tbody>\n",
       "    <tr>\n",
       "      <th>apples</th>\n",
       "      <td>2724</td>\n",
       "    </tr>\n",
       "    <tr>\n",
       "      <th>oranges</th>\n",
       "      <td>2602</td>\n",
       "    </tr>\n",
       "    <tr>\n",
       "      <th>black-eyed peas</th>\n",
       "      <td>2567</td>\n",
       "    </tr>\n",
       "  </tbody>\n",
       "</table>\n",
       "</div>"
      ],
      "text/plain": [
       "                 quantity\n",
       "item                     \n",
       "apples               2724\n",
       "oranges              2602\n",
       "black-eyed peas      2567"
      ]
     },
     "execution_count": 31,
     "metadata": {},
     "output_type": "execute_result"
    }
   ],
   "source": [
    "(\n",
    "    store_data[[\"item\", \"quantity\"]]\n",
    "    .groupby(by=\"item\")\n",
    "    .sum()\n",
    "    .sort_values(by=\"quantity\", ascending=False)\n",
    "    .head(3)\n",
    ")"
   ]
  },
  {
   "attachments": {},
   "cell_type": "markdown",
   "metadata": {},
   "source": [
    "# And that's all folks! See you in the next notebook 😃"
   ]
  },
  {
   "cell_type": "markdown",
   "metadata": {},
   "source": []
  }
 ],
 "metadata": {
  "kernelspec": {
   "display_name": "Python 3",
   "language": "python",
   "name": "python3"
  },
  "language_info": {
   "codemirror_mode": {
    "name": "ipython",
    "version": 3
   },
   "file_extension": ".py",
   "mimetype": "text/x-python",
   "name": "python",
   "nbconvert_exporter": "python",
   "pygments_lexer": "ipython3",
   "version": "3.10.4"
  },
  "orig_nbformat": 4,
  "vscode": {
   "interpreter": {
    "hash": "3df7511fe47c34032570aa872ebc5c175ec322c94d90960616804ea6f62c67ab"
   }
  }
 },
 "nbformat": 4,
 "nbformat_minor": 2
}
